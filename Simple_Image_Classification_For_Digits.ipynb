{
  "nbformat": 4,
  "nbformat_minor": 0,
  "metadata": {
    "colab": {
      "provenance": []
    },
    "kernelspec": {
      "name": "python3",
      "display_name": "Python 3"
    },
    "language_info": {
      "name": "python"
    }
  },
  "cells": [
    {
      "cell_type": "code",
      "execution_count": null,
      "metadata": {
        "id": "mAi9l_Ph3GbG"
      },
      "outputs": [],
      "source": [
        "import tensorflow as tf\n",
        "import numpy as np\n",
        "from matplotlib import pyplot as plt\n",
        "from tensorflow.keras.utils import to_categorical\n",
        "%matplotlib inline"
      ]
    },
    {
      "cell_type": "code",
      "source": [
        "from tensorflow.keras.datasets import mnist"
      ],
      "metadata": {
        "id": "H8VQgt1h3YiI"
      },
      "execution_count": null,
      "outputs": []
    },
    {
      "cell_type": "code",
      "source": [
        "(x_train, y_train), (x_test, y_test) = mnist.load_data()"
      ],
      "metadata": {
        "colab": {
          "base_uri": "https://localhost:8080/"
        },
        "id": "7hnAlW1g3h4a",
        "outputId": "95102ec4-ad49-433b-820b-84fb0acc78d6"
      },
      "execution_count": null,
      "outputs": [
        {
          "output_type": "stream",
          "name": "stdout",
          "text": [
            "Downloading data from https://storage.googleapis.com/tensorflow/tf-keras-datasets/mnist.npz\n",
            "11490434/11490434 [==============================] - 0s 0us/step\n"
          ]
        }
      ]
    },
    {
      "cell_type": "code",
      "source": [
        "print(f'x_train shape: ', x_train.shape)\n",
        "print(f'y_train shape: ', y_train.shape)\n",
        "print(f'x_test shape: ', x_test.shape)\n",
        "print(f'y_test shape: ', y_test.shape)"
      ],
      "metadata": {
        "colab": {
          "base_uri": "https://localhost:8080/"
        },
        "id": "DMb_qhMz3pda",
        "outputId": "bb977cfa-103d-4e80-dffb-f207d81ccb4b"
      },
      "execution_count": null,
      "outputs": [
        {
          "output_type": "stream",
          "name": "stdout",
          "text": [
            "x_train shape:  (60000, 28, 28)\n",
            "y_train shape:  (60000,)\n",
            "x_test shape:  (10000, 28, 28)\n",
            "y_test shape:  (10000,)\n"
          ]
        }
      ]
    },
    {
      "cell_type": "code",
      "source": [
        "plt.imshow(x_train[5])"
      ],
      "metadata": {
        "colab": {
          "base_uri": "https://localhost:8080/",
          "height": 282
        },
        "id": "HqScFOP-39VN",
        "outputId": "002c2daf-e7b7-4dd2-95df-9e22b1cc48c8"
      },
      "execution_count": null,
      "outputs": [
        {
          "output_type": "execute_result",
          "data": {
            "text/plain": [
              "<matplotlib.image.AxesImage at 0x7fa884f8c990>"
            ]
          },
          "metadata": {},
          "execution_count": 7
        },
        {
          "output_type": "display_data",
          "data": {
            "text/plain": [
              "<Figure size 432x288 with 1 Axes>"
            ],
            "image/png": "[encoded data removed]"
          },
          "metadata": {
            "needs_background": "light"
          }
        }
      ]
    },
    {
      "cell_type": "code",
      "source": [
        "y_train[5]"
      ],
      "metadata": {
        "colab": {
          "base_uri": "https://localhost:8080/"
        },
        "id": "IAv0E5tl5Jyc",
        "outputId": "bb1d8a58-cccf-439d-8747-e851bf4ccd5e"
      },
      "execution_count": null,
      "outputs": [
        {
          "output_type": "execute_result",
          "data": {
            "text/plain": [
              "2"
            ]
          },
          "metadata": {},
          "execution_count": 8
        }
      ]
    },
    {
      "cell_type": "code",
      "source": [
        "set(y_train)"
      ],
      "metadata": {
        "colab": {
          "base_uri": "https://localhost:8080/"
        },
        "id": "nrcOZdMJ5aSu",
        "outputId": "68542bcc-bcd1-4cbd-f8a3-f5fb6bc6c5c3"
      },
      "execution_count": null,
      "outputs": [
        {
          "output_type": "execute_result",
          "data": {
            "text/plain": [
              "{0, 1, 2, 3, 4, 5, 6, 7, 8, 9}"
            ]
          },
          "metadata": {},
          "execution_count": 9
        }
      ]
    },
    {
      "cell_type": "code",
      "source": [
        "y_train_enc = to_categorical(y_train)\n",
        "y_test_enc = to_categorical(y_test)\n",
        "print(f'y_train_enc example{y_train_enc[5]} for y_train: {y_train[5]}')\n",
        "print(f'y_test_enc example{y_test_enc[5]} for y_test: {y_test[5]}')"
      ],
      "metadata": {
        "colab": {
          "base_uri": "https://localhost:8080/"
        },
        "id": "4nBx-9l_5hZG",
        "outputId": "15bd96c1-3350-439f-afee-6e2571bb1fcd"
      },
      "execution_count": null,
      "outputs": [
        {
          "output_type": "stream",
          "name": "stdout",
          "text": [
            "y_train_enc example[0. 0. 1. 0. 0. 0. 0. 0. 0. 0.] for y_train: 2\n",
            "y_test_enc example[0. 1. 0. 0. 0. 0. 0. 0. 0. 0.] for y_test: 1\n"
          ]
        }
      ]
    },
    {
      "cell_type": "markdown",
      "source": [
        "###Flattening given 28*28 greyscale image to a vector "
      ],
      "metadata": {
        "id": "KLrQc51hAHux"
      }
    },
    {
      "cell_type": "code",
      "source": [
        "x_train_reshaped = np.reshape(x_train, (60000, 784))\n",
        "x_test_reshaped = np.reshape(x_test, (10000,784))"
      ],
      "metadata": {
        "id": "hwO4Qv1L6hqx"
      },
      "execution_count": null,
      "outputs": []
    },
    {
      "cell_type": "code",
      "source": [
        "x_train_reshaped.shape"
      ],
      "metadata": {
        "colab": {
          "base_uri": "https://localhost:8080/"
        },
        "id": "ETOUvdagA7By",
        "outputId": "1631ab36-eab9-459a-bcf1-829b4ccbaf52"
      },
      "execution_count": null,
      "outputs": [
        {
          "output_type": "execute_result",
          "data": {
            "text/plain": [
              "(60000, 784)"
            ]
          },
          "metadata": {},
          "execution_count": 16
        }
      ]
    },
    {
      "cell_type": "code",
      "source": [
        "print(set(x_train_reshaped[5]))"
      ],
      "metadata": {
        "colab": {
          "base_uri": "https://localhost:8080/"
        },
        "id": "elCpWC4eA95L",
        "outputId": "5f2a2cd1-0cd5-4590-817a-ebd0b75f824d"
      },
      "execution_count": null,
      "outputs": [
        {
          "output_type": "stream",
          "name": "stdout",
          "text": [
            "{0, 3, 4, 5, 6, 7, 10, 13, 14, 15, 16, 17, 18, 21, 22, 23, 25, 26, 29, 30, 31, 33, 35, 36, 37, 40, 49, 53, 54, 58, 59, 60, 65, 66, 72, 73, 77, 78, 87, 88, 89, 93, 96, 100, 105, 106, 110, 116, 117, 121, 122, 124, 125, 126, 128, 129, 135, 136, 143, 146, 151, 152, 157, 163, 167, 170, 173, 178, 179, 180, 181, 184, 194, 200, 202, 203, 205, 207, 208, 211, 216, 217, 220, 223, 224, 227, 228, 231, 232, 239, 241, 242, 243, 244, 245, 247, 252, 253, 255}\n"
          ]
        }
      ]
    },
    {
      "cell_type": "markdown",
      "source": [
        "###Normalizing pixel values"
      ],
      "metadata": {
        "id": "VP91LMdoBMW_"
      }
    },
    {
      "cell_type": "code",
      "source": [
        "x_mean = np.mean(x_train_reshaped)\n",
        "x_std = np.std(x_train_reshaped)\n",
        "\n",
        "e=1e-10\n",
        "x_train_norm = (x_train_reshaped - x_mean)/(x_std + e)\n",
        "x_test_norm = (x_test_reshaped - x_mean)/(x_std + e)"
      ],
      "metadata": {
        "id": "oYZgf-i3BGqG"
      },
      "execution_count": null,
      "outputs": []
    },
    {
      "cell_type": "code",
      "source": [
        "print(set(x_train_norm[5]))"
      ],
      "metadata": {
        "colab": {
          "base_uri": "https://localhost:8080/"
        },
        "id": "xmF2ZUCiB3ZC",
        "outputId": "c3733ee2-f375-4127-eb88-38fb484550b5"
      },
      "execution_count": null,
      "outputs": [
        {
          "output_type": "stream",
          "name": "stdout",
          "text": [
            "{-0.10587612575604877, 0.8487171801488835, 1.1287312165476637, 1.4978406281642376, 2.2233315406519862, 2.7833596134495466, 1.4342010744372422, 2.681536327486354, 2.3760664695967755, 2.045140790216399, 2.668808416740955, 2.719720059722551, 2.694264238231753, 0.75962180493109, -0.14405985799224608, 1.17964285952926, 2.7960875241949457, 2.1596919869249906, 1.8669500397808114, 0.912356733875879, 0.02140298169794222, -0.38589016215482896, -0.22042732246464067, 1.5742080926366322, 2.210603629906587, 1.917861682762408, 2.2615152728881838, 2.6560805059955555, 0.6959822512040945, -0.4240738943910262, -0.25861105470083795, -0.33497851917323257, -0.05496448277445237, 0.3141449288421215, -0.29679478693703526, 2.4142502018329726, 1.7778546645630178, -0.09314821501064967, 0.505063590023108, 2.465161844814569, 2.1215082546887936, -0.13133194724684696, 0.2632332858605251, 1.8796779505262107, 2.5160734877961657, 1.294194056237852, 0.03413089244334132, 2.6178967737593584, 2.325154826615179, 0.7087101619494935, 1.052363752075269, -0.24588314395543887, -0.004052839792855978, -0.20769941171924156, 0.7978055371672873, 0.1995937321335296, 0.5559752330047044, 0.5687031437501034, 1.7396709323268205, 0.9759962876028746, 0.4159682148053143, 0.6832543404586954, 1.396017342201045, -0.042236572029053274, 1.154187038038462, 2.426978112578372, 2.8215433456857437, 2.477889755559968, 1.2050986810200583, 1.8414942182900134, 2.5288013985415647, 2.185147808415789, 1.306921966983251, 0.08504253542493771, 1.6505755571090268, 2.337882737360578, 1.7014872000906232, 0.4032403040599152, -0.19497150097384247, -0.15678776873764516, 0.250505375115126, -0.36043434066403074, 0.3268728395875206, 0.04685880318874042, 1.0650916628206684, 0.4923356792777089, 1.1160033058022647, 1.166914948783861, 2.1469640761795916, 1.5105685389096368, 1.8542221290354124, 1.2178265917654574, -0.23315523321003975, -0.029508661283654175, 0.9250846446212782, -0.3731622514094298, -0.34770642991863165, 0.3396007503329197, 2.6433525952501564}\n"
          ]
        }
      ]
    },
    {
      "cell_type": "markdown",
      "source": [
        "###Create a Neural Network Model"
      ],
      "metadata": {
        "id": "ycZyGaj_FRJW"
      }
    },
    {
      "cell_type": "code",
      "source": [
        "from tensorflow.keras.models import Sequential\n",
        "from tensorflow.keras.layers import Dense"
      ],
      "metadata": {
        "id": "BudA7Tr3B44n"
      },
      "execution_count": null,
      "outputs": []
    },
    {
      "cell_type": "code",
      "source": [
        "model = Sequential([\n",
        "    Dense(128, activation='relu', input_shape=(784,)),\n",
        "    Dense(128, activation='relu'),\n",
        "    Dense(10, activation='softmax')\n",
        "])"
      ],
      "metadata": {
        "id": "IMmR8vV2Fjc4"
      },
      "execution_count": null,
      "outputs": []
    },
    {
      "cell_type": "code",
      "source": [
        "model.compile(\n",
        "    optimizer='sgd',\n",
        "    loss = 'categorical_crossentropy',\n",
        "    metrics=['accuracy']\n",
        ")\n",
        "model.summary()"
      ],
      "metadata": {
        "colab": {
          "base_uri": "https://localhost:8080/"
        },
        "id": "RrHrB1rVGFkJ",
        "outputId": "f89351d6-8fb0-450e-9594-ee0f0565eddb"
      },
      "execution_count": null,
      "outputs": [
        {
          "output_type": "stream",
          "name": "stdout",
          "text": [
            "Model: \"sequential_1\"\n",
            "_________________________________________________________________\n",
            " Layer (type)                Output Shape              Param #   \n",
            "=================================================================\n",
            " dense_3 (Dense)             (None, 128)               100480    \n",
            "                                                                 \n",
            " dense_4 (Dense)             (None, 128)               16512     \n",
            "                                                                 \n",
            " dense_5 (Dense)             (None, 10)                1290      \n",
            "                                                                 \n",
            "=================================================================\n",
            "Total params: 118,282\n",
            "Trainable params: 118,282\n",
            "Non-trainable params: 0\n",
            "_________________________________________________________________\n"
          ]
        }
      ]
    },
    {
      "cell_type": "markdown",
      "source": [
        "###Training the model"
      ],
      "metadata": {
        "id": "YRPuu_w8Hmel"
      }
    },
    {
      "cell_type": "code",
      "source": [
        "model.fit(x_train_norm, y_train_enc, epochs=4)"
      ],
      "metadata": {
        "colab": {
          "base_uri": "https://localhost:8080/"
        },
        "id": "G9_uCmdRGXse",
        "outputId": "a8a10d22-8f9c-41f4-9632-240e117bef3d"
      },
      "execution_count": null,
      "outputs": [
        {
          "output_type": "stream",
          "name": "stdout",
          "text": [
            "Epoch 1/4\n",
            "1875/1875 [==============================] - 5s 2ms/step - loss: 0.3783 - accuracy: 0.8896\n",
            "Epoch 2/4\n",
            "1875/1875 [==============================] - 4s 2ms/step - loss: 0.1884 - accuracy: 0.9450\n",
            "Epoch 3/4\n",
            "1875/1875 [==============================] - 4s 2ms/step - loss: 0.1442 - accuracy: 0.9586\n",
            "Epoch 4/4\n",
            "1875/1875 [==============================] - 4s 2ms/step - loss: 0.1182 - accuracy: 0.9653\n"
          ]
        },
        {
          "output_type": "execute_result",
          "data": {
            "text/plain": [
              "<keras.callbacks.History at 0x7fa8809f7250>"
            ]
          },
          "metadata": {},
          "execution_count": 27
        }
      ]
    },
    {
      "cell_type": "markdown",
      "source": [
        "###Evaluating the model"
      ],
      "metadata": {
        "id": "2swt4E1cHqi4"
      }
    },
    {
      "cell_type": "code",
      "source": [
        "loss, accuracy = model.evaluate(x_test_norm, y_test_enc)"
      ],
      "metadata": {
        "colab": {
          "base_uri": "https://localhost:8080/"
        },
        "id": "-RQO5v5FHLAT",
        "outputId": "ccbc2075-3280-4ae8-bffd-6cf269f303c6"
      },
      "execution_count": null,
      "outputs": [
        {
          "output_type": "stream",
          "name": "stdout",
          "text": [
            "313/313 [==============================] - 1s 2ms/step - loss: 0.1238 - accuracy: 0.9629\n"
          ]
        }
      ]
    },
    {
      "cell_type": "markdown",
      "source": [
        "###Result"
      ],
      "metadata": {
        "id": "0hTXJQb4H1oo"
      }
    },
    {
      "cell_type": "code",
      "source": [
        "preds = model.predict(x_test_norm)"
      ],
      "metadata": {
        "colab": {
          "base_uri": "https://localhost:8080/"
        },
        "id": "JnWKM_1_H3Gx",
        "outputId": "0d4b040a-143d-421a-fbb4-48e1caf5b104"
      },
      "execution_count": null,
      "outputs": [
        {
          "output_type": "stream",
          "name": "stdout",
          "text": [
            "313/313 [==============================] - 1s 2ms/step\n"
          ]
        }
      ]
    },
    {
      "cell_type": "code",
      "source": [
        "preds.shape"
      ],
      "metadata": {
        "colab": {
          "base_uri": "https://localhost:8080/"
        },
        "id": "NPOhDknjKkjL",
        "outputId": "1e05cdf8-f3de-4a2f-a73c-f4bc2d1d8d71"
      },
      "execution_count": null,
      "outputs": [
        {
          "output_type": "execute_result",
          "data": {
            "text/plain": [
              "(10000, 10)"
            ]
          },
          "metadata": {},
          "execution_count": 31
        }
      ]
    },
    {
      "cell_type": "code",
      "source": [
        "plt.figure(figsize=(12,12))\n",
        "\n",
        "start_loc = 250\n",
        "for i in range(25):\n",
        "  plt.subplot(5,5,i+1)\n",
        "  plt.grid(False)\n",
        "  plt.xticks([])\n",
        "  plt.yticks([])\n",
        "\n",
        "  pred = np.argmax(preds[start_loc+i])\n",
        "  gt = y_test[start_loc+i]\n",
        "\n",
        "  color = 'green'\n",
        "  if pred != gt:\n",
        "    color = 'red'\n",
        "\n",
        "  plt.xlabel(f'i={start_loc+i} pred={pred} gt={gt}', color=color)\n",
        "  plt.imshow(x_test[start_loc+i])\n",
        "plt.show()"
      ],
      "metadata": {
        "colab": {
          "base_uri": "https://localhost:8080/",
          "height": 659
        },
        "id": "4R1KloZxKp46",
        "outputId": "e24411d1-0d32-47ca-a36d-bab3cdfd8b50"
      },
      "execution_count": null,
      "outputs": [
        {
          "output_type": "display_data",
          "data": {
            "text/plain": [
              "<Figure size 864x864 with 25 Axes>"
            ],
            "image/png": "[encoded data removed]"
          },
          "metadata": {}
        }
      ]
    }
  ]
}